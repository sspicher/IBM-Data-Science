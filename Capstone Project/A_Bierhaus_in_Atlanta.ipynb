{
 "cells": [
  {
   "cell_type": "markdown",
   "metadata": {},
   "source": [
    "# 1. Introduction\n",
    " There are over 200 named neighborhoods in Atlanta, each with a unique history and culture. Sadly, for a long time these neighborhoods were isolated from each other. The Atlanta Beltline project aims to correct that by providing easy walking paths around the city. These pathways have seen exploding business and cultural growth since construction.\n",
    "I am from Atlanta, GA and have always loved beer, so I am always on the look out for new beer serving establishments. But what would it look like to start my own? Would the Beltline help? Would I get drowned out by other bars or restaurants?\n",
    "\n",
    "# 2. Business Problem\n",
    "If I want to open a beer taproom in Atlanta, where should I put it? Where would I get the best value for my money while also reaching the most popular neighborhoods. By using population and FourSquare data, can I see which neighborhoods have the fewest beer serving establishments per capita?\n",
    "\n",
    "# 3. Data Description\n",
    "\n",
    "## 3.1 Atlanta Neighborhood Data\n",
    "The City of Atlanta publishes geographic data for each of the neighborhoods within the city limits. This shapefile includes geometries. We will use only two columns from this data set:\n",
    "* Name\n",
    "* geometry\n",
    "\n",
    "## 3.2 Atlanta Neighborhood Population\n",
    "Wikipedia has an article with population values for Atlanta neighborhoods with popultions over 500 people. Since I probably do not want to open a bierhaus in a sparsely populated neighborhood, I accept this limitation. The page is here: [https://en.wikipedia.org/wiki/Table_of_Atlanta_neighborhoods_by_population](https://en.wikipedia.org/wiki/Table_of_Atlanta_neighborhoods_by_population).\n",
    "\n",
    "## 3.3 FourSquare API Data\n",
    "Using the FourSquare API, I will gather the number of beer serving venues in each Neighborhood. Since I am using the a free license with FourSquare I will limit the queries to venues and not menus. Expected data we will retrieve is:\n",
    "* Neighbourhood : Name of the Neighbourhood\n",
    "* Neighbourhood Latitude : Latitude of the Neighbourhood\n",
    "* Neighbourhood Longitude : Longitude of the Neighbourhood\n",
    "* Venue : Name of the Venue\n",
    "* Venue Latitude : Latitude of Venue\n",
    "* Venue Longitude : Longitude of Venue\n",
    "* Venue Category : Category of Venue"
   ]
  },
  {
   "cell_type": "markdown",
   "metadata": {},
   "source": [
    "# 4. Method\n",
    "\n",
    "My analytical approach to this problem will be to determine the best neighborhoods based on populaton and the most popular venues in that neighborhood. I will then determine which neighborhood to open my bierhaus in based on the lowset venue per capita neighborhood of those clustered together as high beer drinking neighborhoods.\n",
    "\n",
    "## 4.1 Library and Data Import\n",
    "\n",
    "I will be using python and a jupyer notebook for this so I will first start by importing the proper packages and libraries for my analysis."
   ]
  },
  {
   "cell_type": "code",
   "execution_count": null,
   "metadata": {},
   "outputs": [],
   "source": [
    "import requests\n",
    "import numpy as np\n",
    "import pandas as pd\n",
    "import geopandas as gpd\n",
    "import folium\n",
    "from sklearn.cluster import KMeans\n",
    "import matplotlib.cm as cm\n",
    "import matplotlib.colors as colors\n",
    "from config import fs_csec #this holds my private key for foursquare"
   ]
  },
  {
   "cell_type": "code",
   "execution_count": null,
   "metadata": {},
   "outputs": [],
   "source": [
    "atl_neighborhoods = gpd.read_file('Neighborhoods-shp/Neighborhoods.shp').to_crs(4326)\n",
    "wiki = pd.read_html(requests.get(\"https://en.wikipedia.org/wiki/Table_of_Atlanta_neighborhoods_by_population\").text)\n",
    "wiki = wiki[0]"
   ]
  },
  {
   "cell_type": "code",
   "execution_count": null,
   "metadata": {},
   "outputs": [],
   "source": [
    "atl_neighborhoods.head()"
   ]
  },
  {
   "cell_type": "code",
   "execution_count": null,
   "metadata": {},
   "outputs": [],
   "source": [
    "atl_neighborhoods.shape"
   ]
  },
  {
   "cell_type": "markdown",
   "metadata": {},
   "source": [
    "## 4.2 Data preprocessing\n",
    "I do not need to do much preprocessing on the data since the structures are already fairly clean. But I do want to map the neighborhood population to the geogrpahic data"
   ]
  },
  {
   "cell_type": "code",
   "execution_count": null,
   "metadata": {},
   "outputs": [],
   "source": [
    "atl_neighborhoods['POP'] = atl_neighborhoods.NAME.map(dict(zip(wiki.Neighborhood,wiki['Population (2010)'])))"
   ]
  },
  {
   "cell_type": "markdown",
   "metadata": {},
   "source": [
    "The population by neighborhood list only includes neighbohoods with populations over 500 in 2010, which is fine. I will simply remove the other, low population neighborhoods as I probably do not want to open a bierhaus in those anyway. We also want to add the latitude and longitudes of the centers of each neighborhood."
   ]
  },
  {
   "cell_type": "code",
   "execution_count": null,
   "metadata": {},
   "outputs": [],
   "source": [
    "atl_neighborhoods = atl_neighborhoods[~(atl_neighborhoods['POP'].isna())].reset_index(drop=True)\n",
    "atl_neighborhoods['Latitude'] = atl_neighborhoods.geometry.centroid.y\n",
    "atl_neighborhoods['Longitude'] = atl_neighborhoods.geometry.centroid.x\n",
    "atl_neighborhoods.shape"
   ]
  },
  {
   "cell_type": "markdown",
   "metadata": {},
   "source": [
    "So we have 153 potential target neighborhoods, lets map them just to see what those look like."
   ]
  },
  {
   "cell_type": "code",
   "execution_count": null,
   "metadata": {},
   "outputs": [],
   "source": [
    "latitude = 33.7490 ## Atlanta latitude\n",
    "longitude = -84.3880 ## Atlanta longitude"
   ]
  },
  {
   "cell_type": "code",
   "execution_count": null,
   "metadata": {},
   "outputs": [],
   "source": [
    "m1 = folium.Map([latitude, longitude], zoom_start = 11)\n",
    "folium.TileLayer('CartoDB positron',name=\"Light Map\",control=False).add_to(m1)\n",
    "folium.GeoJson(atl_neighborhoods).add_to(m1)\n",
    "m1"
   ]
  },
  {
   "cell_type": "markdown",
   "metadata": {},
   "source": [
    "Now lets add a little color to see how these neighborhoods compare, population-wise."
   ]
  },
  {
   "cell_type": "code",
   "execution_count": null,
   "metadata": {},
   "outputs": [],
   "source": [
    "m2 = folium.Map([latitude,longitude], zoom_start = 11)\n",
    "scale = (atl_neighborhoods['POP'].quantile((0,0.1,0.75,0.9,0.98,1))).tolist()\n",
    "folium.TileLayer('CartoDB positron',name=\"Light Map\",control=False).add_to(m2)\n",
    "folium.Choropleth(\n",
    " geo_data=atl_neighborhoods,\n",
    " name='Choropleth',\n",
    " data=atl_neighborhoods,\n",
    " columns=['NAME','POP'],\n",
    " key_on=\"feature.properties.NAME\",\n",
    " fill_color='YlGnBu',\n",
    " threshold_scale=scale,\n",
    " fill_opacity=0.8,\n",
    " line_opacity=0.2,\n",
    " legend_name='Population (2010)',\n",
    " smooth_factor=0\n",
    ").add_to(m2)\n",
    "\n",
    "m2"
   ]
  },
  {
   "cell_type": "markdown",
   "metadata": {},
   "source": [
    "Now lets plot the centroid points of each neighborhood."
   ]
  },
  {
   "cell_type": "code",
   "execution_count": null,
   "metadata": {},
   "outputs": [],
   "source": [
    "m3 = folium.Map(location=[latitude, longitude], zoom_start=11)\n",
    "\n",
    "# add markers to map\n",
    "#for point, label in zip(df.geometry.centroid.to_crs(4326), df['NAME']):\n",
    "for lat, lng, label in zip(atl_neighborhoods['Latitude'], atl_neighborhoods['Longitude'], atl_neighborhoods['NAME']):\n",
    "    label = folium.Popup(label, parse_html=True)\n",
    "    folium.CircleMarker(\n",
    "        [lat, lng],\n",
    "        #point,\n",
    "        radius=5,\n",
    "        popup=label,\n",
    "        color='blue',\n",
    "        fill=True,\n",
    "        fill_color='#3186cc',\n",
    "        fill_opacity=0.7,\n",
    "        parse_html=False).add_to(m3)  \n",
    "    \n",
    "m3"
   ]
  },
  {
   "cell_type": "markdown",
   "metadata": {},
   "source": [
    "## 4.3 Get Venues from FourSquare\n",
    "In order to best use the FourSquare API, I tried using the neighborhood name as a search criteria, but most did not return any results, so we will use the central points combined withed a as our search criteria.\n",
    "\n",
    "But first we set some basic variables so we can hit the FourSquare API."
   ]
  },
  {
   "cell_type": "code",
   "execution_count": null,
   "metadata": {},
   "outputs": [],
   "source": [
    "CLIENT_ID = 'CXDDIXSSG4QDUN25PUJXW4ZGNEAX24P15S40NYRZ5SE3FA2M' # your Foursquare ID\n",
    "CLIENT_SECRET = fs_csec # your Foursquare Secret\n",
    "VERSION = '20180605' # Foursquare API version\n",
    "LIMIT = 100 # A default Foursquare API limit value"
   ]
  },
  {
   "cell_type": "markdown",
   "metadata": {},
   "source": [
    "Here we define a function for finding all venues within our neighborhood."
   ]
  },
  {
   "cell_type": "code",
   "execution_count": null,
   "metadata": {},
   "outputs": [],
   "source": [
    "def getNearbyVenues(names, latitudes, longitudes, radius=500):\n",
    "    \n",
    "    venues_list=[]\n",
    "    for name, lat, lng in zip(names, latitudes, longitudes):\n",
    "        #print(name)\n",
    "            \n",
    "        # create the API request URL\n",
    "        url = 'https://api.foursquare.com/v2/venues/explore?&client_id={}&client_secret={}&v={}&ll={},{}&radius={}&limit={}'.format(\n",
    "            CLIENT_ID, \n",
    "            CLIENT_SECRET, \n",
    "            VERSION, \n",
    "            lat, \n",
    "            lng, \n",
    "            radius, \n",
    "            LIMIT)\n",
    "            \n",
    "        # make the GET request\n",
    "        results = requests.get(url).json()[\"response\"]['groups'][0]['items']\n",
    "        \n",
    "        # return only relevant information for each nearby venue\n",
    "        venues_list.append([(\n",
    "            name, \n",
    "            lat, \n",
    "            lng, \n",
    "            v['venue']['name'], \n",
    "            v['venue']['location']['lat'], \n",
    "            v['venue']['location']['lng'],  \n",
    "            v['venue']['categories'][0]['name']) for v in results])\n",
    "\n",
    "    nearby_venues = pd.DataFrame([item for venue_list in venues_list for item in venue_list])\n",
    "    nearby_venues.columns = ['Neighborhood', \n",
    "                  'Neighborhood Latitude', \n",
    "                  'Neighborhood Longitude', \n",
    "                  'Venue', \n",
    "                  'Venue Latitude', \n",
    "                  'Venue Longitude', \n",
    "                  'Venue Category']\n",
    "    \n",
    "    return(nearby_venues)"
   ]
  },
  {
   "cell_type": "code",
   "execution_count": null,
   "metadata": {},
   "outputs": [],
   "source": [
    "atl_venues = getNearbyVenues(names=atl_neighborhoods['NAME'],\n",
    "                                   latitudes=atl_neighborhoods['Latitude'],\n",
    "                                   longitudes=atl_neighborhoods['Longitude']\n",
    "                                  )"
   ]
  },
  {
   "cell_type": "code",
   "execution_count": null,
   "metadata": {},
   "outputs": [],
   "source": [
    "atl_venues.head()"
   ]
  },
  {
   "cell_type": "markdown",
   "metadata": {},
   "source": [
    "Lets see the different types of venues in our neighborhoods."
   ]
  },
  {
   "cell_type": "code",
   "execution_count": null,
   "metadata": {},
   "outputs": [],
   "source": [
    "atl_venues['Venue Category'].sort_values().unique().tolist()"
   ]
  },
  {
   "cell_type": "markdown",
   "metadata": {},
   "source": [
    "Of these, let's use Bar, Beer Bar, Gastropub, Irish Pub, Pub, Sports Bar, Whiskey Bar, and Wine Bar as the types of venues that my Bierhaus would compete with."
   ]
  },
  {
   "cell_type": "code",
   "execution_count": null,
   "metadata": {},
   "outputs": [],
   "source": [
    "comp = ['Bar', 'Beer Bar', 'Gastropub', 'Irish Pub', 'Pub', 'Sports Bar', 'Whiskey Bar', 'Wine Bar']"
   ]
  },
  {
   "cell_type": "markdown",
   "metadata": {},
   "source": [
    "Let's reduce our results for only these venue types and group by the Neighborhood to count how many of these venues exist."
   ]
  },
  {
   "cell_type": "code",
   "execution_count": null,
   "metadata": {},
   "outputs": [],
   "source": [
    "atl_venues = atl_venues[atl_venues['Venue Category'].isin(comp)]\n",
    "atl_grouped = atl_venues.groupby('Neighborhood')['Venue Category'].count().reset_index()\n",
    "atl_grouped"
   ]
  },
  {
   "cell_type": "markdown",
   "metadata": {},
   "source": [
    "## 5. Results and Making the decision\n",
    "\n",
    "As we saw above, only 18 of the Neighborhoods have venues we would compete with. As I said before, we do not want to be the first into a new market.\n",
    "\n",
    "To make a decision, we will map these venue counts to our original data and find venues per 1000 people and select the neighborhood with the highest value."
   ]
  },
  {
   "cell_type": "code",
   "execution_count": null,
   "metadata": {},
   "outputs": [],
   "source": [
    "atl_neighborhoods['Number of Venues'] = atl_neighborhoods['NAME'].map(dict(zip(atl_grouped['Neighborhood'],atl_grouped['Venue Category'])))\n",
    "atl_neighborhoods['Venues per 1000 People'] = (atl_neighborhoods['Number of Venues']/atl_neighborhoods['POP'])*1000"
   ]
  },
  {
   "cell_type": "markdown",
   "metadata": {},
   "source": [
    "Let's visualize the results."
   ]
  },
  {
   "cell_type": "code",
   "execution_count": null,
   "metadata": {},
   "outputs": [],
   "source": [
    "m4 = folium.Map([latitude,longitude], zoom_start = 11)\n",
    "scale = (atl_neighborhoods['Venues per 1000 People'].quantile((0,0.1,0.75,0.9,0.98,1))).tolist()\n",
    "folium.TileLayer('CartoDB positron',name=\"Light Map\",control=False).add_to(m4)\n",
    "folium.Choropleth(\n",
    " geo_data=atl_neighborhoods,\n",
    " name='Choropleth',\n",
    " data=atl_neighborhoods,\n",
    " columns=['NAME','Venues per 1000 People'],\n",
    " key_on=\"feature.properties.NAME\",\n",
    " fill_color='YlGnBu',\n",
    " threshold_scale=scale,\n",
    " fill_opacity=0.8,\n",
    " line_opacity=0.2,\n",
    " legend_name='Venues per 1000 People',\n",
    " smooth_factor=0\n",
    ").add_to(m4)\n",
    "\n",
    "m4"
   ]
  },
  {
   "cell_type": "markdown",
   "metadata": {},
   "source": [
    "Most of the neighborhoods are black because they have no venues like ours. But it is hard to tell which neighborhood we want to go into exactly. So, let's see which neighborhood is our best area to target for our Bierhaus."
   ]
  },
  {
   "cell_type": "code",
   "execution_count": null,
   "metadata": {},
   "outputs": [],
   "source": [
    "best_neighborhood = atl_neighborhoods.sort_values(by='Venues per 1000 People', ascending = False).reset_index(drop=True)['NAME'][0]\n",
    "print('The Atlanta Neighborhood where I should open a Bierhaus is', best_neighborhood+'.')"
   ]
  },
  {
   "cell_type": "markdown",
   "metadata": {},
   "source": [
    "So the Marietta Street Artery is ripe for a Bierhaus, and being an Atlanta native, I can confrim this would be a great place for a Bierhaus."
   ]
  },
  {
   "cell_type": "markdown",
   "metadata": {},
   "source": [
    "# 6. Disucssion\n",
    "\n",
    "This analysis is designed to give general recommendations for where to put my Bierhaus. But there are some assumptions we made and shortcuts taken.\n",
    "\n",
    "## 6.1 Assumptions\n",
    "\n",
    "The biggest assumption we made in this analysis is that the best place to put a Bierhaus is simply the neighborhood with the highest beer-like drinks venues per 1000 people. Obviously, there are other things to consider like space availability, rent, access, etc. This analysis was designed to be more of a first pass on which neighborhoods show a desnity of venues like the one I would like to open.\n",
    "\n",
    "Another assumption we made was that the FourSquare data included all venues similar to my Bierhaus concept. There are many different types of drinks venues so we would want to investigate that further.\n",
    "\n",
    "## 6.2 Areas for improvement\n",
    "\n",
    "Ideally, I would have searched FourSquare using the neighborhood names themselves. I tried this but got many errors and saw that there was a misalignment with the names of Atlanta neighborhoods as the city seems them and what is reported in FourSquare. To overcome this, I simply used the central latitudes and longitudes for each neighbood and searched around a certain raidus from those points. We probably missed some venues using this method.\n",
    "\n",
    "Finally, Atlanta is known as a sprawling city with many people driving in and out of the city-proper and its neighborhoods to go about their lives. I also already mentioned the Atlanta Beltline project as a means to connect the various neighborhoods. Basing this decision on reported population is likely missing the true story of the average daily person count in a particular neighborhood. I would like to improve this model with this data if it were available."
   ]
  },
  {
   "cell_type": "markdown",
   "metadata": {},
   "source": [
    "# 7. Conclusion\n",
    "\n",
    "The analysis contained in this report concludes that the Marietta Street Artery is the best neighborhood in Atlanta where I should open a Bierhaus. Using python, FourSquare, and some visualization techniques, we have shown how some very easily accesable data can help aspiring business owners make smart decisions. Thank you for reading!"
   ]
  },
  {
   "cell_type": "code",
   "execution_count": null,
   "metadata": {},
   "outputs": [],
   "source": []
  }
 ],
 "metadata": {
  "kernelspec": {
   "display_name": "Python 3",
   "language": "python",
   "name": "python3"
  },
  "language_info": {
   "codemirror_mode": {
    "name": "ipython",
    "version": 3
   },
   "file_extension": ".py",
   "mimetype": "text/x-python",
   "name": "python",
   "nbconvert_exporter": "python",
   "pygments_lexer": "ipython3",
   "version": "3.8.5"
  }
 },
 "nbformat": 4,
 "nbformat_minor": 4
}
